{
 "cells": [
  {
   "cell_type": "code",
   "execution_count": 1,
   "metadata": {},
   "outputs": [],
   "source": [
    "import os\n",
    "os.chdir(os.getcwd())"
   ]
  },
  {
   "cell_type": "code",
   "execution_count": 2,
   "metadata": {},
   "outputs": [],
   "source": [
    "from pre import DataLoader\n",
    "\n",
    "'''\n",
    " data structure\n",
    " folders are found in the \"data\" folder\n",
    " 'folder_name' is the name of the folder in the data folder : string\n",
    " 'channel' is the name of the channel in the folder : int\n",
    "\n",
    " {\n",
    "    'folder_name': {\n",
    "        'channel': np.array([[time, value], [time, value], ...])\n",
    "    }\n",
    " }\n",
    "'''\n",
    "data = DataLoader()\n",
    "\n",
    "for folder_name in data:\n",
    "    for channel in data[folder_name]:"
   ]
  },
  {
   "cell_type": "code",
   "execution_count": null,
   "metadata": {},
   "outputs": [],
   "source": [
    "##Normalize\n",
    "#summary : normalize the data to 0-1\n",
    "for folder_name in data:\n",
    "    for channel in data[folder_name]:\n",
    "        temp = data[folder_name][channel]\n",
    "        data[folder_name][channel] = (temp - temp.min(axis=0)) / (temp.max(axis=0) - temp.min(axis=0))"
   ]
  },
  {
   "cell_type": "code",
   "execution_count": null,
   "metadata": {},
   "outputs": [],
   "source": []
  }
 ],
 "metadata": {
  "kernelspec": {
   "display_name": "base",
   "language": "python",
   "name": "python3"
  },
  "language_info": {
   "codemirror_mode": {
    "name": "ipython",
    "version": 3
   },
   "file_extension": ".py",
   "mimetype": "text/x-python",
   "name": "python",
   "nbconvert_exporter": "python",
   "pygments_lexer": "ipython3",
   "version": "3.12.7"
  }
 },
 "nbformat": 4,
 "nbformat_minor": 2
}
